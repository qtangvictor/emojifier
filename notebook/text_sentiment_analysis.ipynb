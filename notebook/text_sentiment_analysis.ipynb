{
 "cells": [
  {
   "cell_type": "code",
   "execution_count": 9,
   "metadata": {
    "ExecuteTime": {
     "end_time": "2020-11-13T03:29:33.449082Z",
     "start_time": "2020-11-13T03:29:33.440082Z"
    }
   },
   "outputs": [],
   "source": [
    "import json\n",
    "import pandas as pd\n",
    "import numpy as np\n",
    "import os\n",
    "import pickle\n",
    "import warnings\n",
    "import requests\n",
    "import re\n",
    "warnings.filterwarnings('ignore')\n",
    "pd.set_option('display.max_columns',None)\n",
    "pd.set_option('display.max_rows',None)"
   ]
  },
  {
   "cell_type": "markdown",
   "metadata": {},
   "source": [
    "# Data extraction and processing"
   ]
  },
  {
   "cell_type": "code",
   "execution_count": 2,
   "metadata": {
    "ExecuteTime": {
     "end_time": "2020-11-09T01:01:01.877637Z",
     "start_time": "2020-11-09T01:00:59.432780Z"
    }
   },
   "outputs": [],
   "source": [
    "def extract_text():\n",
    "    file = 'raw.pickle'\n",
    "    response = requests.get(\"https://raw.githubusercontent.com/bfelbo/DeepMoji/master/data/PsychExp/raw.pickle\")\n",
    "    open(file, 'wb').write(response.content)\n",
    "    data = pickle.load(open(file,'rb'),encoding='latin1')\n",
    "    if os.path.exists('data.txt'):\n",
    "        os.remove('data.txt')\n",
    "    try:\n",
    "        texts = [str(x) for x in data['texts']]\n",
    "        labels = [x['label'] for x in data['info']]\n",
    "        with open(\"data.txt\", 'a') as txtfile: \n",
    "            for i in range(len(texts)):\n",
    "                txtfile.write(np.array2string(labels[i]))\n",
    "                txtfile.write(str(texts[i])+'\\n')\n",
    "\n",
    "    except Exception as e:\n",
    "        print(e)\n",
    "\n",
    "extract_text()\n"
   ]
  },
  {
   "cell_type": "code",
   "execution_count": 2,
   "metadata": {
    "ExecuteTime": {
     "end_time": "2020-11-13T03:28:21.197592Z",
     "start_time": "2020-11-13T03:28:21.184593Z"
    }
   },
   "outputs": [],
   "source": [
    "def read_text_file(file_name):\n",
    "    data_list  = []\n",
    "    with open(file_name,'r') as f:\n",
    "        for line in f:\n",
    "            line = line.strip()\n",
    "            label = ' '.join(line[:line.find(\"]\")].strip().split())\n",
    "            text = line[line.find(\"]\")+1:].strip()\n",
    "            data_list.append([label, text])\n",
    "\n",
    "    return data_list\n",
    "\n",
    "def extract_labels(text_list):\n",
    "    label_list = []\n",
    "    text_list = [text_list[i][0].replace('[','') for i in range(len(text_list))]\n",
    "    label_list = [list(np.fromstring(text_list[i], dtype=float, sep=' ')) for i in range(len(text_list))]\n",
    "    return label_list\n",
    "\n",
    "def extract_text_msgs(text_list):\n",
    "    msg_list = []\n",
    "    msg_list = [text_list[i][1] for i in range(len(text_list))]\n",
    "    return msg_list"
   ]
  },
  {
   "cell_type": "code",
   "execution_count": 3,
   "metadata": {
    "ExecuteTime": {
     "end_time": "2020-11-13T03:28:23.568660Z",
     "start_time": "2020-11-13T03:28:23.446585Z"
    }
   },
   "outputs": [],
   "source": [
    "data_list = read_text_file('data.txt')\n",
    "label_list = extract_labels(data_list)\n",
    "msg_list = extract_text_msgs(data_list)"
   ]
  },
  {
   "cell_type": "markdown",
   "metadata": {},
   "source": [
    "# Tokenize the data"
   ]
  },
  {
   "cell_type": "code",
   "execution_count": 4,
   "metadata": {
    "ExecuteTime": {
     "end_time": "2020-11-13T03:28:41.896523Z",
     "start_time": "2020-11-13T03:28:31.114227Z"
    }
   },
   "outputs": [
    {
     "name": "stdout",
     "output_type": "stream",
     "text": [
      "Found 9121 unique tokens.\n"
     ]
    }
   ],
   "source": [
    "from keras.preprocessing.text import Tokenizer\n",
    "from keras.preprocessing.sequence import pad_sequences\n",
    "max_words = 10000 # the max number of words to extracted into the vocaburary\n",
    "maxlen = 50  # the max number of words a text sample can have\n",
    "\n",
    "tokenizer = Tokenizer(num_words=max_words,lower=True)\n",
    "tokenizer.fit_on_texts(msg_list)\n",
    "msg_tokenized = tokenizer.texts_to_sequences(msg_list) # tokenize the msg_list\n",
    "word_index = tokenizer.word_index\n",
    "print('Found %s unique tokens.' % len(word_index))\n",
    "\n",
    "msg_tokenized = pad_sequences(msg_tokenized, maxlen=maxlen) # make each text sample same long \n"
   ]
  },
  {
   "cell_type": "markdown",
   "metadata": {},
   "source": [
    "# save the tokenizer"
   ]
  },
  {
   "cell_type": "code",
   "execution_count": 5,
   "metadata": {
    "ExecuteTime": {
     "end_time": "2020-11-13T03:28:57.235151Z",
     "start_time": "2020-11-13T03:28:57.210145Z"
    }
   },
   "outputs": [],
   "source": [
    "f=open('tokenizer.pickle','wb')\n",
    "pickle.dump(tokenizer,f)\n",
    "f.close()\n",
    "#tokenizer = pickle.load(open('tokenizer.pickle','rb')) # load it back\n",
    "#tokenizer.texts_to_sequences([text]) # tolenize new text"
   ]
  },
  {
   "cell_type": "markdown",
   "metadata": {},
   "source": [
    "# Split data into a training set and a validation set"
   ]
  },
  {
   "cell_type": "code",
   "execution_count": 6,
   "metadata": {
    "ExecuteTime": {
     "end_time": "2020-11-13T03:29:05.580692Z",
     "start_time": "2020-11-13T03:29:05.538624Z"
    }
   },
   "outputs": [],
   "source": [
    "# Shuffle the data\n",
    "seed = 1\n",
    "rng = np.random.RandomState(seed)\n",
    "rng.shuffle(msg_tokenized)\n",
    "rng = np.random.RandomState(seed)\n",
    "rng.shuffle(label_list)\n",
    "test_split = 0.2\n",
    "num_validation_samples = int(test_split * len(msg_tokenized))\n",
    "X_train = msg_tokenized[:-num_validation_samples]\n",
    "X_test = msg_tokenized[-num_validation_samples:]\n",
    "y_train = label_list[:-num_validation_samples]\n",
    "y_test = label_list[-num_validation_samples:]"
   ]
  },
  {
   "cell_type": "markdown",
   "metadata": {},
   "source": [
    "# Read Glove word embedding"
   ]
  },
  {
   "cell_type": "code",
   "execution_count": 7,
   "metadata": {
    "ExecuteTime": {
     "end_time": "2020-11-13T03:29:09.580869Z",
     "start_time": "2020-11-13T03:29:09.564873Z"
    }
   },
   "outputs": [],
   "source": [
    "def read_glove_vector(glove_file):\n",
    "    with open(glove_file,'r',encoding='UTF-8') as file:\n",
    "        words = set() \n",
    "        word_to_vec = {}\n",
    "        for line in file:\n",
    "            line = line.strip().split()\n",
    "            line[0] = re.sub('[^a-zA-Z]', '', line[0])\n",
    "            if len(line[0]) > 0:\n",
    "                words.add(line[0])\n",
    "                word_to_vec[line[0]] = np.array(line[1:],dtype=np.float64)\n",
    "\n",
    "        i = 1\n",
    "        word_to_index = {}\n",
    "        index_to_word = {}\n",
    "        for word in sorted(words):\n",
    "            word_to_index[word] = i\n",
    "            index_to_word[i] = word\n",
    "            i = i+1\n",
    "    return word_to_index,index_to_word,word_to_vec"
   ]
  },
  {
   "cell_type": "code",
   "execution_count": 10,
   "metadata": {
    "ExecuteTime": {
     "end_time": "2020-11-13T03:29:55.197876Z",
     "start_time": "2020-11-13T03:29:41.660846Z"
    }
   },
   "outputs": [],
   "source": [
    "word_to_index,index_to_word,word_to_vec = read_glove_vector(\"glove.6B.50d.txt\")"
   ]
  },
  {
   "cell_type": "markdown",
   "metadata": {},
   "source": [
    "# create embedding layer"
   ]
  },
  {
   "cell_type": "code",
   "execution_count": 11,
   "metadata": {
    "ExecuteTime": {
     "end_time": "2020-11-13T03:30:11.444702Z",
     "start_time": "2020-11-13T03:30:11.440702Z"
    }
   },
   "outputs": [],
   "source": [
    "from tensorflow import keras\n",
    "from keras import layers\n"
   ]
  },
  {
   "cell_type": "code",
   "execution_count": 12,
   "metadata": {
    "ExecuteTime": {
     "end_time": "2020-11-13T03:30:22.124564Z",
     "start_time": "2020-11-13T03:30:22.076563Z"
    }
   },
   "outputs": [],
   "source": [
    "EMBEDDING_DIM = word_to_vec['word'].shape[0]\n",
    "embedding_matrix = np.zeros((len(word_index) + 1, EMBEDDING_DIM))\n",
    "for word, i in word_index.items():\n",
    "    embedding_vector = word_to_vec.get(word)\n",
    "    if embedding_vector is not None:\n",
    "        # words not found in embedding index will be all-zeros.\n",
    "        embedding_matrix[i] = embedding_vector"
   ]
  },
  {
   "cell_type": "code",
   "execution_count": 13,
   "metadata": {
    "ExecuteTime": {
     "end_time": "2020-11-13T03:30:24.844984Z",
     "start_time": "2020-11-13T03:30:24.802956Z"
    }
   },
   "outputs": [],
   "source": [
    "from keras.layers import Embedding\n",
    "embedding_layer = Embedding(len(word_index) + 1,\n",
    "                            EMBEDDING_DIM,\n",
    "                            weights=[embedding_matrix],\n",
    "                            input_length=maxlen,\n",
    "                            trainable=False)"
   ]
  },
  {
   "cell_type": "markdown",
   "metadata": {},
   "source": [
    "# Bi-directional RNN model"
   ]
  },
  {
   "cell_type": "code",
   "execution_count": 14,
   "metadata": {
    "ExecuteTime": {
     "end_time": "2020-11-13T03:30:42.669834Z",
     "start_time": "2020-11-13T03:30:40.983942Z"
    }
   },
   "outputs": [],
   "source": [
    "def create_lstm_model(input_shape,embedding_layer):\n",
    "    sentence_indices = keras.Input(shape=input_shape, dtype=np.int32)\n",
    "    embeddings = embedding_layer(sentence_indices)\n",
    "    reg = keras.regularizers.L1L2(0.01, 0.01)\n",
    "\n",
    "    X = layers.Bidirectional(layers.LSTM(128, return_sequences=True,bias_regularizer=reg,kernel_initializer='he_uniform'))(embeddings)\n",
    "    X = layers.BatchNormalization()(X)\n",
    "    X = layers.Dropout(0.5)(X)\n",
    "    X = layers.LSTM(64)(X)\n",
    "    X = layers.Dropout(0.5)(X)\n",
    "    X = layers.Dense(7, activation='softmax')(X)\n",
    "    X =  layers.Activation('softmax')(X)\n",
    "    model = keras.Model(sentence_indices, X)\n",
    "\n",
    "    return model\n",
    "\n",
    "model = create_lstm_model((maxlen,),embedding_layer)\n"
   ]
  },
  {
   "cell_type": "code",
   "execution_count": 15,
   "metadata": {
    "ExecuteTime": {
     "end_time": "2020-11-13T03:30:47.328173Z",
     "start_time": "2020-11-13T03:30:47.315170Z"
    }
   },
   "outputs": [
    {
     "name": "stdout",
     "output_type": "stream",
     "text": [
      "Model: \"functional_1\"\n",
      "_________________________________________________________________\n",
      "Layer (type)                 Output Shape              Param #   \n",
      "=================================================================\n",
      "input_1 (InputLayer)         [(None, 50)]              0         \n",
      "_________________________________________________________________\n",
      "embedding (Embedding)        (None, 50, 50)            456100    \n",
      "_________________________________________________________________\n",
      "bidirectional (Bidirectional (None, 50, 256)           183296    \n",
      "_________________________________________________________________\n",
      "batch_normalization (BatchNo (None, 50, 256)           1024      \n",
      "_________________________________________________________________\n",
      "dropout (Dropout)            (None, 50, 256)           0         \n",
      "_________________________________________________________________\n",
      "lstm_1 (LSTM)                (None, 64)                82176     \n",
      "_________________________________________________________________\n",
      "dropout_1 (Dropout)          (None, 64)                0         \n",
      "_________________________________________________________________\n",
      "dense (Dense)                (None, 7)                 455       \n",
      "_________________________________________________________________\n",
      "activation (Activation)      (None, 7)                 0         \n",
      "=================================================================\n",
      "Total params: 723,051\n",
      "Trainable params: 266,439\n",
      "Non-trainable params: 456,612\n",
      "_________________________________________________________________\n"
     ]
    }
   ],
   "source": [
    "model.summary()"
   ]
  },
  {
   "cell_type": "markdown",
   "metadata": {},
   "source": [
    "# Train the model"
   ]
  },
  {
   "cell_type": "code",
   "execution_count": 16,
   "metadata": {
    "ExecuteTime": {
     "end_time": "2020-11-13T03:47:03.704927Z",
     "start_time": "2020-11-13T03:30:59.392872Z"
    }
   },
   "outputs": [
    {
     "name": "stdout",
     "output_type": "stream",
     "text": [
      "Epoch 1/30\n",
      "187/187 [==============================] - 28s 151ms/step - loss: 6.3570 - accuracy: 0.2273 - val_loss: 5.6486 - val_accuracy: 0.3396\n",
      "Epoch 2/30\n",
      "187/187 [==============================] - 28s 148ms/step - loss: 5.0661 - accuracy: 0.3516 - val_loss: 4.5169 - val_accuracy: 0.3737\n",
      "Epoch 3/30\n",
      "187/187 [==============================] - 29s 156ms/step - loss: 4.0432 - accuracy: 0.4039 - val_loss: 3.5989 - val_accuracy: 0.4211\n",
      "Epoch 4/30\n",
      "187/187 [==============================] - 30s 159ms/step - loss: 3.2261 - accuracy: 0.4520 - val_loss: 2.8953 - val_accuracy: 0.4392\n",
      "Epoch 5/30\n",
      "187/187 [==============================] - 29s 157ms/step - loss: 2.5916 - accuracy: 0.4828 - val_loss: 2.3379 - val_accuracy: 0.4693\n",
      "Epoch 6/30\n",
      "187/187 [==============================] - 31s 164ms/step - loss: 2.1034 - accuracy: 0.4985 - val_loss: 1.9499 - val_accuracy: 0.4599\n",
      "Epoch 7/30\n",
      "187/187 [==============================] - 30s 162ms/step - loss: 1.7368 - accuracy: 0.5236 - val_loss: 1.6716 - val_accuracy: 0.4940\n",
      "Epoch 8/30\n",
      "187/187 [==============================] - 30s 163ms/step - loss: 1.6192 - accuracy: 0.5530 - val_loss: 1.6838 - val_accuracy: 0.4793\n",
      "Epoch 9/30\n",
      "187/187 [==============================] - 35s 185ms/step - loss: 1.6140 - accuracy: 0.5523 - val_loss: 1.6648 - val_accuracy: 0.4967\n",
      "Epoch 10/30\n",
      "187/187 [==============================] - 31s 166ms/step - loss: 1.5825 - accuracy: 0.5877 - val_loss: 1.6678 - val_accuracy: 0.4967\n",
      "Epoch 11/30\n",
      "187/187 [==============================] - 30s 162ms/step - loss: 1.5774 - accuracy: 0.5906 - val_loss: 1.6542 - val_accuracy: 0.5114\n",
      "Epoch 12/30\n",
      "187/187 [==============================] - 31s 164ms/step - loss: 1.5590 - accuracy: 0.6101 - val_loss: 1.6480 - val_accuracy: 0.5207\n",
      "Epoch 13/30\n",
      "187/187 [==============================] - 33s 174ms/step - loss: 1.5458 - accuracy: 0.6257 - val_loss: 1.6351 - val_accuracy: 0.5261\n",
      "Epoch 14/30\n",
      "187/187 [==============================] - 31s 167ms/step - loss: 1.5301 - accuracy: 0.6419 - val_loss: 1.6286 - val_accuracy: 0.5341\n",
      "Epoch 15/30\n",
      "187/187 [==============================] - 30s 162ms/step - loss: 1.5256 - accuracy: 0.6441 - val_loss: 1.6688 - val_accuracy: 0.4866\n",
      "Epoch 16/30\n",
      "187/187 [==============================] - 31s 164ms/step - loss: 1.5071 - accuracy: 0.6631 - val_loss: 1.6225 - val_accuracy: 0.5441\n",
      "Epoch 17/30\n",
      "187/187 [==============================] - 31s 163ms/step - loss: 1.5018 - accuracy: 0.6679 - val_loss: 1.6532 - val_accuracy: 0.5100\n",
      "Epoch 18/30\n",
      "187/187 [==============================] - 32s 170ms/step - loss: 1.5027 - accuracy: 0.6730 - val_loss: 1.6190 - val_accuracy: 0.5448\n",
      "Epoch 19/30\n",
      "187/187 [==============================] - 31s 167ms/step - loss: 1.5036 - accuracy: 0.6663 - val_loss: 1.6593 - val_accuracy: 0.5067\n",
      "Epoch 20/30\n",
      "187/187 [==============================] - 31s 164ms/step - loss: 1.4842 - accuracy: 0.6907 - val_loss: 1.6441 - val_accuracy: 0.5160\n",
      "Epoch 21/30\n",
      "187/187 [==============================] - 31s 167ms/step - loss: 1.4716 - accuracy: 0.6990 - val_loss: 1.6135 - val_accuracy: 0.5468\n",
      "Epoch 22/30\n",
      "187/187 [==============================] - 31s 168ms/step - loss: 1.4695 - accuracy: 0.6989 - val_loss: 1.6150 - val_accuracy: 0.5461\n",
      "Epoch 23/30\n",
      "187/187 [==============================] - 31s 165ms/step - loss: 1.4646 - accuracy: 0.7062 - val_loss: 1.6269 - val_accuracy: 0.5361\n",
      "Epoch 24/30\n",
      "187/187 [==============================] - 31s 167ms/step - loss: 1.4605 - accuracy: 0.7124 - val_loss: 1.6169 - val_accuracy: 0.5508\n",
      "Epoch 25/30\n",
      "187/187 [==============================] - 34s 183ms/step - loss: 1.4545 - accuracy: 0.7172 - val_loss: 1.6488 - val_accuracy: 0.5214\n",
      "Epoch 26/30\n",
      "187/187 [==============================] - 36s 195ms/step - loss: 1.4440 - accuracy: 0.7288 - val_loss: 1.6175 - val_accuracy: 0.5481\n",
      "Epoch 27/30\n",
      "187/187 [==============================] - 37s 196ms/step - loss: 1.4472 - accuracy: 0.7236 - val_loss: 1.6008 - val_accuracy: 0.5615\n",
      "Epoch 28/30\n",
      "187/187 [==============================] - 39s 211ms/step - loss: 1.4372 - accuracy: 0.7331 - val_loss: 1.5939 - val_accuracy: 0.5729\n",
      "Epoch 29/30\n",
      "187/187 [==============================] - 37s 197ms/step - loss: 1.4288 - accuracy: 0.7410 - val_loss: 1.5989 - val_accuracy: 0.5635\n",
      "Epoch 30/30\n",
      "187/187 [==============================] - 34s 180ms/step - loss: 1.4302 - accuracy: 0.7413 - val_loss: 1.6302 - val_accuracy: 0.5361\n"
     ]
    },
    {
     "data": {
      "text/plain": [
       "<tensorflow.python.keras.callbacks.History at 0x2cdd7a2a488>"
      ]
     },
     "execution_count": 16,
     "metadata": {},
     "output_type": "execute_result"
    }
   ],
   "source": [
    "model.compile(loss='categorical_crossentropy', optimizer='adam', metrics=['accuracy'])\n",
    "model.fit(X_train, np.array(y_train),validation_data=(X_test, np.array(y_test)), epochs = 30, batch_size = 32, shuffle=True)"
   ]
  },
  {
   "cell_type": "code",
   "execution_count": 17,
   "metadata": {
    "ExecuteTime": {
     "end_time": "2020-11-13T03:49:50.698279Z",
     "start_time": "2020-11-13T03:49:50.339934Z"
    }
   },
   "outputs": [],
   "source": [
    "model.save('emoji_model.h5')\n"
   ]
  },
  {
   "cell_type": "markdown",
   "metadata": {},
   "source": [
    "# load the model back"
   ]
  },
  {
   "cell_type": "code",
   "execution_count": 79,
   "metadata": {
    "ExecuteTime": {
     "end_time": "2020-11-11T04:41:23.677033Z",
     "start_time": "2020-11-11T04:41:16.080817Z"
    }
   },
   "outputs": [],
   "source": [
    "model = keras.models.load_model('emoji_model.h5')"
   ]
  }
 ],
 "metadata": {
  "kernelspec": {
   "display_name": "Python 3",
   "language": "python",
   "name": "python3"
  },
  "language_info": {
   "codemirror_mode": {
    "name": "ipython",
    "version": 3
   },
   "file_extension": ".py",
   "mimetype": "text/x-python",
   "name": "python",
   "nbconvert_exporter": "python",
   "pygments_lexer": "ipython3",
   "version": "3.7.6"
  }
 },
 "nbformat": 4,
 "nbformat_minor": 4
}
